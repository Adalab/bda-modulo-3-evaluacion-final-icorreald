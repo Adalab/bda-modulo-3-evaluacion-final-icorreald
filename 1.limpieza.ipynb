{
 "cells": [
  {
   "cell_type": "markdown",
   "metadata": {},
   "source": [
    "# LIMPIEZA DATAFRAME:\n",
    "\n",
    "1. **Columnas**: \n",
    "- unificación en minúsculas\n",
    "- loyalty number era el índice, ahora es una columna más (nuevo índice numérico)\n",
    "- 'cancellation month' y 'cancellation year' desaparecen por su alta cantidad de nulos (87.65%)\n",
    "\n",
    "2. **Filas**: \n",
    "- se eliminan las filas del cliente 542976: sueldo negativo, datos incoherentes\n",
    "\n",
    "3. **Nulos**:\n",
    "- 'salary' para el grupo educativo college: el 25% de nulos encontrados en la columna se concentra aquí\n",
    "- no se ha imputado, las estimaciones para comparar no tendrían en cuenta el parámetro de la educación para predecir el rango salarial; es arriesgado y no ofrece información tan necesaria como para falsear el dato\n",
    "\n",
    "4. **Otros**:\n",
    "- en el 'salary' de 'bachelor', se ha optado por hacer positivos los valores negativos, ya que son coherentes dentro del rango salarial del grupo"
   ]
  }
 ],
 "metadata": {
  "kernelspec": {
   "display_name": "Python 3",
   "language": "python",
   "name": "python3"
  },
  "language_info": {
   "codemirror_mode": {
    "name": "ipython",
    "version": 3
   },
   "file_extension": ".py",
   "mimetype": "text/x-python",
   "name": "python",
   "nbconvert_exporter": "python",
   "pygments_lexer": "ipython3",
   "version": "3.11.9"
  }
 },
 "nbformat": 4,
 "nbformat_minor": 2
}
