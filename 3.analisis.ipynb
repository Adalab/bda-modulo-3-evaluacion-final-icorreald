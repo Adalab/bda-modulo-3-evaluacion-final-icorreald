{
 "cells": [
  {
   "cell_type": "markdown",
   "metadata": {},
   "source": [
    "## Hipótesis:\n",
    "\n",
    "- H0: No existen diferencias significativas entre los grupos de nivel educativo\n",
    "- H1: Existen ciertas diferencias significativas entre los grupos de nivel educativo"
   ]
  },
  {
   "cell_type": "markdown",
   "metadata": {},
   "source": [
    "# RESPUESTA\n",
    "He hecho varios tipos de test: Mann Whitney y krustal-Willis. También he utilizado dos DF diferentes: en uno quedan registrados todos los clientes afiliados a la aerolínea, en otro sólo aquellos que han realizado al menos algún vuelo.\n",
    "\n",
    "# PROCESO"
   ]
  },
  {
   "cell_type": "code",
   "execution_count": 1,
   "metadata": {},
   "outputs": [],
   "source": [
    "from src import analisis_soporte as ans\n",
    "import pandas as pd\n",
    "import numpy as np\n",
    "\n",
    "from scipy import stats\n",
    "from scipy.stats import ttest_ind, norm, chi2_contingency, f_oneway\n",
    "from sklearn.linear_model import LinearRegression\n",
    "\n",
    "\n",
    "\n",
    "import warnings\n",
    "warnings.filterwarnings(\"ignore\")"
   ]
  },
  {
   "cell_type": "code",
   "execution_count": 2,
   "metadata": {},
   "outputs": [],
   "source": [
    "df = pd.read_csv('fligh-data-clean.csv', index_col=0)"
   ]
  },
  {
   "cell_type": "code",
   "execution_count": 3,
   "metadata": {},
   "outputs": [],
   "source": [
    "df_booked = df[df['flights booked'] > 0]"
   ]
  },
  {
   "cell_type": "markdown",
   "metadata": {},
   "source": [
    "## AB testing"
   ]
  },
  {
   "cell_type": "code",
   "execution_count": 4,
   "metadata": {},
   "outputs": [
    {
     "data": {
      "text/html": [
       "<div>\n",
       "<style scoped>\n",
       "    .dataframe tbody tr th:only-of-type {\n",
       "        vertical-align: middle;\n",
       "    }\n",
       "\n",
       "    .dataframe tbody tr th {\n",
       "        vertical-align: top;\n",
       "    }\n",
       "\n",
       "    .dataframe thead th {\n",
       "        text-align: right;\n",
       "    }\n",
       "</style>\n",
       "<table border=\"1\" class=\"dataframe\">\n",
       "  <thead>\n",
       "    <tr style=\"text-align: right;\">\n",
       "      <th></th>\n",
       "      <th>loyalty number</th>\n",
       "      <th>flights booked</th>\n",
       "      <th>education</th>\n",
       "    </tr>\n",
       "  </thead>\n",
       "  <tbody>\n",
       "    <tr>\n",
       "      <th>0</th>\n",
       "      <td>100018</td>\n",
       "      <td>3</td>\n",
       "      <td>bachelor</td>\n",
       "    </tr>\n",
       "    <tr>\n",
       "      <th>1</th>\n",
       "      <td>100102</td>\n",
       "      <td>10</td>\n",
       "      <td>college</td>\n",
       "    </tr>\n",
       "    <tr>\n",
       "      <th>2</th>\n",
       "      <td>100140</td>\n",
       "      <td>6</td>\n",
       "      <td>college</td>\n",
       "    </tr>\n",
       "    <tr>\n",
       "      <th>3</th>\n",
       "      <td>100214</td>\n",
       "      <td>0</td>\n",
       "      <td>bachelor</td>\n",
       "    </tr>\n",
       "    <tr>\n",
       "      <th>4</th>\n",
       "      <td>100272</td>\n",
       "      <td>0</td>\n",
       "      <td>bachelor</td>\n",
       "    </tr>\n",
       "    <tr>\n",
       "      <th>...</th>\n",
       "      <td>...</td>\n",
       "      <td>...</td>\n",
       "      <td>...</td>\n",
       "    </tr>\n",
       "    <tr>\n",
       "      <th>405619</th>\n",
       "      <td>999902</td>\n",
       "      <td>0</td>\n",
       "      <td>college</td>\n",
       "    </tr>\n",
       "    <tr>\n",
       "      <th>405620</th>\n",
       "      <td>999911</td>\n",
       "      <td>0</td>\n",
       "      <td>doctor</td>\n",
       "    </tr>\n",
       "    <tr>\n",
       "      <th>405621</th>\n",
       "      <td>999940</td>\n",
       "      <td>3</td>\n",
       "      <td>bachelor</td>\n",
       "    </tr>\n",
       "    <tr>\n",
       "      <th>405622</th>\n",
       "      <td>999982</td>\n",
       "      <td>0</td>\n",
       "      <td>college</td>\n",
       "    </tr>\n",
       "    <tr>\n",
       "      <th>405623</th>\n",
       "      <td>999986</td>\n",
       "      <td>0</td>\n",
       "      <td>bachelor</td>\n",
       "    </tr>\n",
       "  </tbody>\n",
       "</table>\n",
       "<p>403736 rows × 3 columns</p>\n",
       "</div>"
      ],
      "text/plain": [
       "        loyalty number  flights booked education\n",
       "0               100018               3  bachelor\n",
       "1               100102              10   college\n",
       "2               100140               6   college\n",
       "3               100214               0  bachelor\n",
       "4               100272               0  bachelor\n",
       "...                ...             ...       ...\n",
       "405619          999902               0   college\n",
       "405620          999911               0    doctor\n",
       "405621          999940               3  bachelor\n",
       "405622          999982               0   college\n",
       "405623          999986               0  bachelor\n",
       "\n",
       "[403736 rows x 3 columns]"
      ]
     },
     "execution_count": 4,
     "metadata": {},
     "output_type": "execute_result"
    }
   ],
   "source": [
    "df_testA = df[['loyalty number', 'flights booked', 'education']]\n",
    "df_testA"
   ]
  },
  {
   "cell_type": "code",
   "execution_count": 5,
   "metadata": {},
   "outputs": [
    {
     "data": {
      "text/html": [
       "<div>\n",
       "<style scoped>\n",
       "    .dataframe tbody tr th:only-of-type {\n",
       "        vertical-align: middle;\n",
       "    }\n",
       "\n",
       "    .dataframe tbody tr th {\n",
       "        vertical-align: top;\n",
       "    }\n",
       "\n",
       "    .dataframe thead th {\n",
       "        text-align: right;\n",
       "    }\n",
       "</style>\n",
       "<table border=\"1\" class=\"dataframe\">\n",
       "  <thead>\n",
       "    <tr style=\"text-align: right;\">\n",
       "      <th></th>\n",
       "      <th>loyalty number</th>\n",
       "      <th>flights booked</th>\n",
       "      <th>education</th>\n",
       "    </tr>\n",
       "  </thead>\n",
       "  <tbody>\n",
       "    <tr>\n",
       "      <th>0</th>\n",
       "      <td>100018</td>\n",
       "      <td>3</td>\n",
       "      <td>bachelor</td>\n",
       "    </tr>\n",
       "    <tr>\n",
       "      <th>1</th>\n",
       "      <td>100102</td>\n",
       "      <td>10</td>\n",
       "      <td>college</td>\n",
       "    </tr>\n",
       "    <tr>\n",
       "      <th>2</th>\n",
       "      <td>100140</td>\n",
       "      <td>6</td>\n",
       "      <td>college</td>\n",
       "    </tr>\n",
       "    <tr>\n",
       "      <th>8</th>\n",
       "      <td>100428</td>\n",
       "      <td>6</td>\n",
       "      <td>bachelor</td>\n",
       "    </tr>\n",
       "    <tr>\n",
       "      <th>10</th>\n",
       "      <td>100550</td>\n",
       "      <td>3</td>\n",
       "      <td>bachelor</td>\n",
       "    </tr>\n",
       "    <tr>\n",
       "      <th>...</th>\n",
       "      <td>...</td>\n",
       "      <td>...</td>\n",
       "      <td>...</td>\n",
       "    </tr>\n",
       "    <tr>\n",
       "      <th>405612</th>\n",
       "      <td>999550</td>\n",
       "      <td>15</td>\n",
       "      <td>doctor</td>\n",
       "    </tr>\n",
       "    <tr>\n",
       "      <th>405613</th>\n",
       "      <td>999589</td>\n",
       "      <td>14</td>\n",
       "      <td>college</td>\n",
       "    </tr>\n",
       "    <tr>\n",
       "      <th>405614</th>\n",
       "      <td>999631</td>\n",
       "      <td>11</td>\n",
       "      <td>bachelor</td>\n",
       "    </tr>\n",
       "    <tr>\n",
       "      <th>405616</th>\n",
       "      <td>999758</td>\n",
       "      <td>1</td>\n",
       "      <td>college</td>\n",
       "    </tr>\n",
       "    <tr>\n",
       "      <th>405621</th>\n",
       "      <td>999940</td>\n",
       "      <td>3</td>\n",
       "      <td>bachelor</td>\n",
       "    </tr>\n",
       "  </tbody>\n",
       "</table>\n",
       "<p>207624 rows × 3 columns</p>\n",
       "</div>"
      ],
      "text/plain": [
       "        loyalty number  flights booked education\n",
       "0               100018               3  bachelor\n",
       "1               100102              10   college\n",
       "2               100140               6   college\n",
       "8               100428               6  bachelor\n",
       "10              100550               3  bachelor\n",
       "...                ...             ...       ...\n",
       "405612          999550              15    doctor\n",
       "405613          999589              14   college\n",
       "405614          999631              11  bachelor\n",
       "405616          999758               1   college\n",
       "405621          999940               3  bachelor\n",
       "\n",
       "[207624 rows x 3 columns]"
      ]
     },
     "execution_count": 5,
     "metadata": {},
     "output_type": "execute_result"
    }
   ],
   "source": [
    "df_testB = df_booked[['loyalty number', 'flights booked', 'education']]\n",
    "df_testB"
   ]
  },
  {
   "cell_type": "code",
   "execution_count": 6,
   "metadata": {},
   "outputs": [
    {
     "data": {
      "text/html": [
       "<div>\n",
       "<style scoped>\n",
       "    .dataframe tbody tr th:only-of-type {\n",
       "        vertical-align: middle;\n",
       "    }\n",
       "\n",
       "    .dataframe tbody tr th {\n",
       "        vertical-align: top;\n",
       "    }\n",
       "\n",
       "    .dataframe thead th {\n",
       "        text-align: right;\n",
       "    }\n",
       "</style>\n",
       "<table border=\"1\" class=\"dataframe\">\n",
       "  <thead>\n",
       "    <tr style=\"text-align: right;\">\n",
       "      <th></th>\n",
       "      <th>mean</th>\n",
       "      <th>mean</th>\n",
       "      <th>std</th>\n",
       "      <th>var</th>\n",
       "    </tr>\n",
       "    <tr>\n",
       "      <th>education</th>\n",
       "      <th></th>\n",
       "      <th></th>\n",
       "      <th></th>\n",
       "      <th></th>\n",
       "    </tr>\n",
       "  </thead>\n",
       "  <tbody>\n",
       "    <tr>\n",
       "      <th>bachelor</th>\n",
       "      <td>4.110288</td>\n",
       "      <td>4.110288</td>\n",
       "      <td>5.221671</td>\n",
       "      <td>27.265843</td>\n",
       "    </tr>\n",
       "    <tr>\n",
       "      <th>college</th>\n",
       "      <td>4.169744</td>\n",
       "      <td>4.169744</td>\n",
       "      <td>5.246040</td>\n",
       "      <td>27.520938</td>\n",
       "    </tr>\n",
       "    <tr>\n",
       "      <th>doctor</th>\n",
       "      <td>4.175512</td>\n",
       "      <td>4.175512</td>\n",
       "      <td>5.256971</td>\n",
       "      <td>27.635748</td>\n",
       "    </tr>\n",
       "    <tr>\n",
       "      <th>high school or below</th>\n",
       "      <td>4.178445</td>\n",
       "      <td>4.178445</td>\n",
       "      <td>5.240179</td>\n",
       "      <td>27.459474</td>\n",
       "    </tr>\n",
       "    <tr>\n",
       "      <th>master</th>\n",
       "      <td>4.200700</td>\n",
       "      <td>4.200700</td>\n",
       "      <td>5.213956</td>\n",
       "      <td>27.185339</td>\n",
       "    </tr>\n",
       "  </tbody>\n",
       "</table>\n",
       "</div>"
      ],
      "text/plain": [
       "                          mean      mean       std        var\n",
       "education                                                    \n",
       "bachelor              4.110288  4.110288  5.221671  27.265843\n",
       "college               4.169744  4.169744  5.246040  27.520938\n",
       "doctor                4.175512  4.175512  5.256971  27.635748\n",
       "high school or below  4.178445  4.178445  5.240179  27.459474\n",
       "master                4.200700  4.200700  5.213956  27.185339"
      ]
     },
     "metadata": {},
     "output_type": "display_data"
    },
    {
     "data": {
      "text/html": [
       "<div>\n",
       "<style scoped>\n",
       "    .dataframe tbody tr th:only-of-type {\n",
       "        vertical-align: middle;\n",
       "    }\n",
       "\n",
       "    .dataframe tbody tr th {\n",
       "        vertical-align: top;\n",
       "    }\n",
       "\n",
       "    .dataframe thead th {\n",
       "        text-align: right;\n",
       "    }\n",
       "</style>\n",
       "<table border=\"1\" class=\"dataframe\">\n",
       "  <thead>\n",
       "    <tr style=\"text-align: right;\">\n",
       "      <th></th>\n",
       "      <th>mean</th>\n",
       "      <th>mean</th>\n",
       "      <th>std</th>\n",
       "      <th>var</th>\n",
       "    </tr>\n",
       "    <tr>\n",
       "      <th>education</th>\n",
       "      <th></th>\n",
       "      <th></th>\n",
       "      <th></th>\n",
       "      <th></th>\n",
       "    </tr>\n",
       "  </thead>\n",
       "  <tbody>\n",
       "    <tr>\n",
       "      <th>bachelor</th>\n",
       "      <td>8.028607</td>\n",
       "      <td>8.028607</td>\n",
       "      <td>4.669000</td>\n",
       "      <td>21.799564</td>\n",
       "    </tr>\n",
       "    <tr>\n",
       "      <th>college</th>\n",
       "      <td>8.070523</td>\n",
       "      <td>8.070523</td>\n",
       "      <td>4.667465</td>\n",
       "      <td>21.785233</td>\n",
       "    </tr>\n",
       "    <tr>\n",
       "      <th>doctor</th>\n",
       "      <td>8.053519</td>\n",
       "      <td>8.053519</td>\n",
       "      <td>4.697898</td>\n",
       "      <td>22.070242</td>\n",
       "    </tr>\n",
       "    <tr>\n",
       "      <th>high school or below</th>\n",
       "      <td>8.016147</td>\n",
       "      <td>8.016147</td>\n",
       "      <td>4.681404</td>\n",
       "      <td>21.915543</td>\n",
       "    </tr>\n",
       "    <tr>\n",
       "      <th>master</th>\n",
       "      <td>8.005894</td>\n",
       "      <td>8.005894</td>\n",
       "      <td>4.620198</td>\n",
       "      <td>21.346227</td>\n",
       "    </tr>\n",
       "  </tbody>\n",
       "</table>\n",
       "</div>"
      ],
      "text/plain": [
       "                          mean      mean       std        var\n",
       "education                                                    \n",
       "bachelor              8.028607  8.028607  4.669000  21.799564\n",
       "college               8.070523  8.070523  4.667465  21.785233\n",
       "doctor                8.053519  8.053519  4.697898  22.070242\n",
       "high school or below  8.016147  8.016147  4.681404  21.915543\n",
       "master                8.005894  8.005894  4.620198  21.346227"
      ]
     },
     "metadata": {},
     "output_type": "display_data"
    }
   ],
   "source": [
    "tabla_statsA = df_testA.groupby('education')['flights booked'].agg(['mean','mean','std','var'])\n",
    "tabla_statsB = df_testB.groupby('education')['flights booked'].agg(['mean','mean','std','var'])\n",
    "\n",
    "display(tabla_statsA)\n",
    "display(tabla_statsB)"
   ]
  },
  {
   "cell_type": "markdown",
   "metadata": {},
   "source": [
    "### pruebas: normalidad y homogeneidad"
   ]
  },
  {
   "cell_type": "code",
   "execution_count": 7,
   "metadata": {},
   "outputs": [
    {
     "name": "stdout",
     "output_type": "stream",
     "text": [
      "Para la columna flights booked los datos no siguen una distribución normal.\n"
     ]
    }
   ],
   "source": [
    "ans.normalidad(df_testA, 'flights booked')"
   ]
  },
  {
   "cell_type": "code",
   "execution_count": 8,
   "metadata": {},
   "outputs": [
    {
     "name": "stdout",
     "output_type": "stream",
     "text": [
      "Para la columna flights booked los datos no siguen una distribución normal.\n"
     ]
    }
   ],
   "source": [
    "ans.normalidad(df_testB, 'flights booked')"
   ]
  },
  {
   "cell_type": "code",
   "execution_count": 9,
   "metadata": {},
   "outputs": [
    {
     "name": "stdout",
     "output_type": "stream",
     "text": [
      "Para la métrica flights booked, las varianzas no son homogéneas entre grupos.\n"
     ]
    }
   ],
   "source": [
    "ans.homogeneidad(df_testA, 'education', 'flights booked')"
   ]
  },
  {
   "cell_type": "code",
   "execution_count": 10,
   "metadata": {},
   "outputs": [
    {
     "name": "stdout",
     "output_type": "stream",
     "text": [
      "Para la métrica flights booked las varianzas son homogéneas entre grupos.\n"
     ]
    }
   ],
   "source": [
    "ans.homogeneidad(df_testB, 'education', 'flights booked')"
   ]
  },
  {
   "cell_type": "markdown",
   "metadata": {},
   "source": [
    "### testing - 1\n"
   ]
  },
  {
   "cell_type": "code",
   "execution_count": 11,
   "metadata": {},
   "outputs": [
    {
     "data": {
      "text/html": [
       "<div>\n",
       "<style scoped>\n",
       "    .dataframe tbody tr th:only-of-type {\n",
       "        vertical-align: middle;\n",
       "    }\n",
       "\n",
       "    .dataframe tbody tr th {\n",
       "        vertical-align: top;\n",
       "    }\n",
       "\n",
       "    .dataframe thead th {\n",
       "        text-align: right;\n",
       "    }\n",
       "</style>\n",
       "<table border=\"1\" class=\"dataframe\">\n",
       "  <thead>\n",
       "    <tr style=\"text-align: right;\">\n",
       "      <th></th>\n",
       "      <th>loyalty number</th>\n",
       "      <th>flights booked</th>\n",
       "      <th>education</th>\n",
       "      <th>grupo</th>\n",
       "    </tr>\n",
       "  </thead>\n",
       "  <tbody>\n",
       "    <tr>\n",
       "      <th>0</th>\n",
       "      <td>100018</td>\n",
       "      <td>3</td>\n",
       "      <td>bachelor</td>\n",
       "      <td>A</td>\n",
       "    </tr>\n",
       "    <tr>\n",
       "      <th>1</th>\n",
       "      <td>100102</td>\n",
       "      <td>10</td>\n",
       "      <td>college</td>\n",
       "      <td>A</td>\n",
       "    </tr>\n",
       "    <tr>\n",
       "      <th>2</th>\n",
       "      <td>100140</td>\n",
       "      <td>6</td>\n",
       "      <td>college</td>\n",
       "      <td>A</td>\n",
       "    </tr>\n",
       "    <tr>\n",
       "      <th>3</th>\n",
       "      <td>100214</td>\n",
       "      <td>0</td>\n",
       "      <td>bachelor</td>\n",
       "      <td>A</td>\n",
       "    </tr>\n",
       "    <tr>\n",
       "      <th>4</th>\n",
       "      <td>100272</td>\n",
       "      <td>0</td>\n",
       "      <td>bachelor</td>\n",
       "      <td>A</td>\n",
       "    </tr>\n",
       "    <tr>\n",
       "      <th>...</th>\n",
       "      <td>...</td>\n",
       "      <td>...</td>\n",
       "      <td>...</td>\n",
       "      <td>...</td>\n",
       "    </tr>\n",
       "    <tr>\n",
       "      <th>405619</th>\n",
       "      <td>999902</td>\n",
       "      <td>0</td>\n",
       "      <td>college</td>\n",
       "      <td>A</td>\n",
       "    </tr>\n",
       "    <tr>\n",
       "      <th>405620</th>\n",
       "      <td>999911</td>\n",
       "      <td>0</td>\n",
       "      <td>doctor</td>\n",
       "      <td>A</td>\n",
       "    </tr>\n",
       "    <tr>\n",
       "      <th>405621</th>\n",
       "      <td>999940</td>\n",
       "      <td>3</td>\n",
       "      <td>bachelor</td>\n",
       "      <td>A</td>\n",
       "    </tr>\n",
       "    <tr>\n",
       "      <th>405622</th>\n",
       "      <td>999982</td>\n",
       "      <td>0</td>\n",
       "      <td>college</td>\n",
       "      <td>A</td>\n",
       "    </tr>\n",
       "    <tr>\n",
       "      <th>405623</th>\n",
       "      <td>999986</td>\n",
       "      <td>0</td>\n",
       "      <td>bachelor</td>\n",
       "      <td>A</td>\n",
       "    </tr>\n",
       "  </tbody>\n",
       "</table>\n",
       "<p>403736 rows × 4 columns</p>\n",
       "</div>"
      ],
      "text/plain": [
       "        loyalty number  flights booked education grupo\n",
       "0               100018               3  bachelor     A\n",
       "1               100102              10   college     A\n",
       "2               100140               6   college     A\n",
       "3               100214               0  bachelor     A\n",
       "4               100272               0  bachelor     A\n",
       "...                ...             ...       ...   ...\n",
       "405619          999902               0   college     A\n",
       "405620          999911               0    doctor     A\n",
       "405621          999940               3  bachelor     A\n",
       "405622          999982               0   college     A\n",
       "405623          999986               0  bachelor     A\n",
       "\n",
       "[403736 rows x 4 columns]"
      ]
     },
     "execution_count": 11,
     "metadata": {},
     "output_type": "execute_result"
    }
   ],
   "source": [
    "df_testA['grupo'] = df_testA['education'].apply(lambda x: 'A' if x in ['bachelor', 'college', 'master', 'doctor'] else 'B')\n",
    "df_testA"
   ]
  },
  {
   "cell_type": "code",
   "execution_count": 12,
   "metadata": {},
   "outputs": [
    {
     "name": "stdout",
     "output_type": "stream",
     "text": [
      "Para la métrica flights booked, las medianas son iguales.\n"
     ]
    }
   ],
   "source": [
    "ans.test_man_whitney(df_testA, ['flights booked'], 'A', 'B', 'grupo')"
   ]
  },
  {
   "cell_type": "code",
   "execution_count": 13,
   "metadata": {},
   "outputs": [],
   "source": [
    "df_testA['grupo2'] = df['education'].apply(lambda x: 'C' if x in ['master', 'doctor'] else 'D')"
   ]
  },
  {
   "cell_type": "code",
   "execution_count": 14,
   "metadata": {},
   "outputs": [
    {
     "name": "stdout",
     "output_type": "stream",
     "text": [
      "Para la métrica flights booked, las medianas son diferentes.\n"
     ]
    }
   ],
   "source": [
    "ans.test_man_whitney(df_testA, ['flights booked'], 'C', 'D', 'grupo2')"
   ]
  },
  {
   "cell_type": "markdown",
   "metadata": {},
   "source": [
    "### testing - 2"
   ]
  },
  {
   "cell_type": "code",
   "execution_count": 15,
   "metadata": {},
   "outputs": [
    {
     "data": {
      "text/html": [
       "<div>\n",
       "<style scoped>\n",
       "    .dataframe tbody tr th:only-of-type {\n",
       "        vertical-align: middle;\n",
       "    }\n",
       "\n",
       "    .dataframe tbody tr th {\n",
       "        vertical-align: top;\n",
       "    }\n",
       "\n",
       "    .dataframe thead th {\n",
       "        text-align: right;\n",
       "    }\n",
       "</style>\n",
       "<table border=\"1\" class=\"dataframe\">\n",
       "  <thead>\n",
       "    <tr style=\"text-align: right;\">\n",
       "      <th></th>\n",
       "      <th>loyalty number</th>\n",
       "      <th>flights booked</th>\n",
       "      <th>education</th>\n",
       "      <th>grupo</th>\n",
       "    </tr>\n",
       "  </thead>\n",
       "  <tbody>\n",
       "    <tr>\n",
       "      <th>0</th>\n",
       "      <td>100018</td>\n",
       "      <td>3</td>\n",
       "      <td>bachelor</td>\n",
       "      <td>A</td>\n",
       "    </tr>\n",
       "    <tr>\n",
       "      <th>1</th>\n",
       "      <td>100102</td>\n",
       "      <td>10</td>\n",
       "      <td>college</td>\n",
       "      <td>A</td>\n",
       "    </tr>\n",
       "    <tr>\n",
       "      <th>2</th>\n",
       "      <td>100140</td>\n",
       "      <td>6</td>\n",
       "      <td>college</td>\n",
       "      <td>A</td>\n",
       "    </tr>\n",
       "    <tr>\n",
       "      <th>8</th>\n",
       "      <td>100428</td>\n",
       "      <td>6</td>\n",
       "      <td>bachelor</td>\n",
       "      <td>A</td>\n",
       "    </tr>\n",
       "    <tr>\n",
       "      <th>10</th>\n",
       "      <td>100550</td>\n",
       "      <td>3</td>\n",
       "      <td>bachelor</td>\n",
       "      <td>A</td>\n",
       "    </tr>\n",
       "    <tr>\n",
       "      <th>...</th>\n",
       "      <td>...</td>\n",
       "      <td>...</td>\n",
       "      <td>...</td>\n",
       "      <td>...</td>\n",
       "    </tr>\n",
       "    <tr>\n",
       "      <th>405612</th>\n",
       "      <td>999550</td>\n",
       "      <td>15</td>\n",
       "      <td>doctor</td>\n",
       "      <td>A</td>\n",
       "    </tr>\n",
       "    <tr>\n",
       "      <th>405613</th>\n",
       "      <td>999589</td>\n",
       "      <td>14</td>\n",
       "      <td>college</td>\n",
       "      <td>A</td>\n",
       "    </tr>\n",
       "    <tr>\n",
       "      <th>405614</th>\n",
       "      <td>999631</td>\n",
       "      <td>11</td>\n",
       "      <td>bachelor</td>\n",
       "      <td>A</td>\n",
       "    </tr>\n",
       "    <tr>\n",
       "      <th>405616</th>\n",
       "      <td>999758</td>\n",
       "      <td>1</td>\n",
       "      <td>college</td>\n",
       "      <td>A</td>\n",
       "    </tr>\n",
       "    <tr>\n",
       "      <th>405621</th>\n",
       "      <td>999940</td>\n",
       "      <td>3</td>\n",
       "      <td>bachelor</td>\n",
       "      <td>A</td>\n",
       "    </tr>\n",
       "  </tbody>\n",
       "</table>\n",
       "<p>207624 rows × 4 columns</p>\n",
       "</div>"
      ],
      "text/plain": [
       "        loyalty number  flights booked education grupo\n",
       "0               100018               3  bachelor     A\n",
       "1               100102              10   college     A\n",
       "2               100140               6   college     A\n",
       "8               100428               6  bachelor     A\n",
       "10              100550               3  bachelor     A\n",
       "...                ...             ...       ...   ...\n",
       "405612          999550              15    doctor     A\n",
       "405613          999589              14   college     A\n",
       "405614          999631              11  bachelor     A\n",
       "405616          999758               1   college     A\n",
       "405621          999940               3  bachelor     A\n",
       "\n",
       "[207624 rows x 4 columns]"
      ]
     },
     "execution_count": 15,
     "metadata": {},
     "output_type": "execute_result"
    }
   ],
   "source": [
    "df_testB['grupo'] = df_testB['education'].apply(lambda x: 'A' if x in ['bachelor', 'college', 'master', 'doctor'] else 'B')\n",
    "df_testB"
   ]
  },
  {
   "cell_type": "code",
   "execution_count": 16,
   "metadata": {},
   "outputs": [
    {
     "name": "stdout",
     "output_type": "stream",
     "text": [
      "Para la métrica flights booked, las medianas son iguales.\n"
     ]
    }
   ],
   "source": [
    "ans.test_man_whitney(df_testB, ['flights booked'], 'A', 'B', 'grupo')"
   ]
  },
  {
   "cell_type": "code",
   "execution_count": 17,
   "metadata": {},
   "outputs": [
    {
     "data": {
      "text/html": [
       "<div>\n",
       "<style scoped>\n",
       "    .dataframe tbody tr th:only-of-type {\n",
       "        vertical-align: middle;\n",
       "    }\n",
       "\n",
       "    .dataframe tbody tr th {\n",
       "        vertical-align: top;\n",
       "    }\n",
       "\n",
       "    .dataframe thead th {\n",
       "        text-align: right;\n",
       "    }\n",
       "</style>\n",
       "<table border=\"1\" class=\"dataframe\">\n",
       "  <thead>\n",
       "    <tr style=\"text-align: right;\">\n",
       "      <th></th>\n",
       "      <th>loyalty number</th>\n",
       "      <th>flights booked</th>\n",
       "      <th>education</th>\n",
       "      <th>grupo</th>\n",
       "      <th>grupo2</th>\n",
       "    </tr>\n",
       "  </thead>\n",
       "  <tbody>\n",
       "    <tr>\n",
       "      <th>0</th>\n",
       "      <td>100018</td>\n",
       "      <td>3</td>\n",
       "      <td>bachelor</td>\n",
       "      <td>A</td>\n",
       "      <td>D</td>\n",
       "    </tr>\n",
       "    <tr>\n",
       "      <th>1</th>\n",
       "      <td>100102</td>\n",
       "      <td>10</td>\n",
       "      <td>college</td>\n",
       "      <td>A</td>\n",
       "      <td>D</td>\n",
       "    </tr>\n",
       "    <tr>\n",
       "      <th>2</th>\n",
       "      <td>100140</td>\n",
       "      <td>6</td>\n",
       "      <td>college</td>\n",
       "      <td>A</td>\n",
       "      <td>D</td>\n",
       "    </tr>\n",
       "    <tr>\n",
       "      <th>8</th>\n",
       "      <td>100428</td>\n",
       "      <td>6</td>\n",
       "      <td>bachelor</td>\n",
       "      <td>A</td>\n",
       "      <td>D</td>\n",
       "    </tr>\n",
       "    <tr>\n",
       "      <th>10</th>\n",
       "      <td>100550</td>\n",
       "      <td>3</td>\n",
       "      <td>bachelor</td>\n",
       "      <td>A</td>\n",
       "      <td>D</td>\n",
       "    </tr>\n",
       "    <tr>\n",
       "      <th>...</th>\n",
       "      <td>...</td>\n",
       "      <td>...</td>\n",
       "      <td>...</td>\n",
       "      <td>...</td>\n",
       "      <td>...</td>\n",
       "    </tr>\n",
       "    <tr>\n",
       "      <th>405612</th>\n",
       "      <td>999550</td>\n",
       "      <td>15</td>\n",
       "      <td>doctor</td>\n",
       "      <td>A</td>\n",
       "      <td>C</td>\n",
       "    </tr>\n",
       "    <tr>\n",
       "      <th>405613</th>\n",
       "      <td>999589</td>\n",
       "      <td>14</td>\n",
       "      <td>college</td>\n",
       "      <td>A</td>\n",
       "      <td>D</td>\n",
       "    </tr>\n",
       "    <tr>\n",
       "      <th>405614</th>\n",
       "      <td>999631</td>\n",
       "      <td>11</td>\n",
       "      <td>bachelor</td>\n",
       "      <td>A</td>\n",
       "      <td>D</td>\n",
       "    </tr>\n",
       "    <tr>\n",
       "      <th>405616</th>\n",
       "      <td>999758</td>\n",
       "      <td>1</td>\n",
       "      <td>college</td>\n",
       "      <td>A</td>\n",
       "      <td>D</td>\n",
       "    </tr>\n",
       "    <tr>\n",
       "      <th>405621</th>\n",
       "      <td>999940</td>\n",
       "      <td>3</td>\n",
       "      <td>bachelor</td>\n",
       "      <td>A</td>\n",
       "      <td>D</td>\n",
       "    </tr>\n",
       "  </tbody>\n",
       "</table>\n",
       "<p>207624 rows × 5 columns</p>\n",
       "</div>"
      ],
      "text/plain": [
       "        loyalty number  flights booked education grupo grupo2\n",
       "0               100018               3  bachelor     A      D\n",
       "1               100102              10   college     A      D\n",
       "2               100140               6   college     A      D\n",
       "8               100428               6  bachelor     A      D\n",
       "10              100550               3  bachelor     A      D\n",
       "...                ...             ...       ...   ...    ...\n",
       "405612          999550              15    doctor     A      C\n",
       "405613          999589              14   college     A      D\n",
       "405614          999631              11  bachelor     A      D\n",
       "405616          999758               1   college     A      D\n",
       "405621          999940               3  bachelor     A      D\n",
       "\n",
       "[207624 rows x 5 columns]"
      ]
     },
     "execution_count": 17,
     "metadata": {},
     "output_type": "execute_result"
    }
   ],
   "source": [
    "df_testB['grupo2'] = df_testB['education'].apply(lambda x: 'C' if x in ['master', 'doctor'] else 'D')\n",
    "df_testB"
   ]
  },
  {
   "cell_type": "code",
   "execution_count": 18,
   "metadata": {},
   "outputs": [
    {
     "name": "stdout",
     "output_type": "stream",
     "text": [
      "Para la métrica flights booked, las medianas son diferentes.\n"
     ]
    }
   ],
   "source": [
    "ans.test_man_whitney(df_testA, ['flights booked'], 'C', 'D', 'grupo2')"
   ]
  },
  {
   "cell_type": "markdown",
   "metadata": {},
   "source": [
    "## kruskal - wallis"
   ]
  },
  {
   "cell_type": "markdown",
   "metadata": {},
   "source": [
    "### testing - 1"
   ]
  },
  {
   "cell_type": "code",
   "execution_count": 19,
   "metadata": {},
   "outputs": [
    {
     "data": {
      "text/plain": [
       "array(['bachelor', 'college', 'master', 'high school or below', 'doctor'],\n",
       "      dtype=object)"
      ]
     },
     "execution_count": 19,
     "metadata": {},
     "output_type": "execute_result"
    }
   ],
   "source": [
    "df['education'].unique()\n"
   ]
  },
  {
   "cell_type": "code",
   "execution_count": 20,
   "metadata": {},
   "outputs": [
    {
     "name": "stdout",
     "output_type": "stream",
     "text": [
      "Estadístico de Kruskal-Wallis: 17.726425291000844\n",
      "Valor p: 0.001395642070733225\n",
      "Hay diferencias estadísticamente significativas entre los grupos.\n"
     ]
    }
   ],
   "source": [
    "from scipy.stats import kruskal\n",
    "\n",
    "statistic, p_value = kruskal(df_testA[df_testA['education']=='bachelor']['flights booked'], df_testA[df_testA['education']=='college']['flights booked'], df_testA[df_testA['education']=='master']['flights booked'], df_testA[df_testA['education']=='doctor']['flights booked'],df_testA[df_testA['education']=='high school or below']['flights booked'])\n",
    "\n",
    "# Imprimir los resultados\n",
    "print(\"Estadístico de Kruskal-Wallis:\", statistic)\n",
    "print(\"Valor p:\", p_value)\n",
    "\n",
    "# Interpretar los resultados\n",
    "alpha = 0.05\n",
    "if p_value < alpha:\n",
    "    print(\"Hay diferencias estadísticamente significativas entre los grupos.\")\n",
    "else:\n",
    "    print(\"No hay diferencias estadísticamente significativas entre los grupos.\")"
   ]
  },
  {
   "cell_type": "markdown",
   "metadata": {},
   "source": [
    "### testing - 2"
   ]
  },
  {
   "cell_type": "code",
   "execution_count": null,
   "metadata": {},
   "outputs": [
    {
     "name": "stdout",
     "output_type": "stream",
     "text": [
      "Estadístico de Kruskal-Wallis: 3.8067713809098156\n",
      "Valor p: 0.4327876205737683\n",
      "No hay diferencias estadísticamente significativas entre los grupos.\n"
     ]
    }
   ],
   "source": [
    "statistic, p_value = kruskal(df_testB[df_testB['education']=='bachelor']['flights booked'], df_testB[df_testB['education']=='college']['flights booked'], df_testB[df_testB['education']=='master']['flights booked'], df_testB[df_testB['education']=='doctor']['flights booked'],df_testB[df_testB['education']=='high school or below']['flights booked'])\n",
    "\n",
    "# Imprimir los resultados\n",
    "print(\"Estadístico de Kruskal-Wallis:\", statistic)\n",
    "print(\"Valor p:\", p_value)\n",
    "\n",
    "# Interpretar los resultados\n",
    "alpha = 0.05\n",
    "if p_value < alpha:\n",
    "    print(\"Hay diferencias estadísticamente significativas entre los grupos.\")\n",
    "else:\n",
    "    print(\"No hay diferencias estadísticamente significativas entre los grupos.\")"
   ]
  }
 ],
 "metadata": {
  "kernelspec": {
   "display_name": "Python 3",
   "language": "python",
   "name": "python3"
  },
  "language_info": {
   "codemirror_mode": {
    "name": "ipython",
    "version": 3
   },
   "file_extension": ".py",
   "mimetype": "text/x-python",
   "name": "python",
   "nbconvert_exporter": "python",
   "pygments_lexer": "ipython3",
   "version": "3.11.9"
  }
 },
 "nbformat": 4,
 "nbformat_minor": 2
}
