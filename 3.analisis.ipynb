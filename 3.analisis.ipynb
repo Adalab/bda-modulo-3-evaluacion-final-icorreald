{
 "cells": [
  {
   "cell_type": "code",
   "execution_count": 1,
   "metadata": {},
   "outputs": [],
   "source": [
    "from src import analisis_soporte as ans\n",
    "import pandas as pd\n",
    "import numpy as np\n",
    "\n",
    "\n",
    "\n",
    "import matplotlib.pyplot as plt\n",
    "import seaborn as sns\n",
    "\n",
    "\n",
    "from scipy import stats\n",
    "from scipy.stats import ttest_ind, norm, chi2_contingency, f_oneway\n",
    "from sklearn.linear_model import LinearRegression\n",
    "\n",
    "\n",
    "# Gestión de los warnings\n",
    "# -----------------------------------------------------------------------\n",
    "import warnings\n",
    "warnings.filterwarnings(\"ignore\")"
   ]
  },
  {
   "cell_type": "code",
   "execution_count": 2,
   "metadata": {},
   "outputs": [],
   "source": [
    "df = pd.read_csv('fligh-data-clean.csv', index_col=0)"
   ]
  },
  {
   "cell_type": "code",
   "execution_count": 3,
   "metadata": {},
   "outputs": [],
   "source": [
    "df_booked = df[df['flights booked'] > 0]"
   ]
  },
  {
   "cell_type": "code",
   "execution_count": 4,
   "metadata": {},
   "outputs": [
    {
     "data": {
      "text/html": [
       "<div>\n",
       "<style scoped>\n",
       "    .dataframe tbody tr th:only-of-type {\n",
       "        vertical-align: middle;\n",
       "    }\n",
       "\n",
       "    .dataframe tbody tr th {\n",
       "        vertical-align: top;\n",
       "    }\n",
       "\n",
       "    .dataframe thead th {\n",
       "        text-align: right;\n",
       "    }\n",
       "</style>\n",
       "<table border=\"1\" class=\"dataframe\">\n",
       "  <thead>\n",
       "    <tr style=\"text-align: right;\">\n",
       "      <th></th>\n",
       "      <th>loyalty number</th>\n",
       "      <th>flights booked</th>\n",
       "      <th>education</th>\n",
       "    </tr>\n",
       "  </thead>\n",
       "  <tbody>\n",
       "    <tr>\n",
       "      <th>0</th>\n",
       "      <td>100018</td>\n",
       "      <td>3</td>\n",
       "      <td>bachelor</td>\n",
       "    </tr>\n",
       "    <tr>\n",
       "      <th>1</th>\n",
       "      <td>100102</td>\n",
       "      <td>10</td>\n",
       "      <td>college</td>\n",
       "    </tr>\n",
       "    <tr>\n",
       "      <th>2</th>\n",
       "      <td>100140</td>\n",
       "      <td>6</td>\n",
       "      <td>college</td>\n",
       "    </tr>\n",
       "    <tr>\n",
       "      <th>8</th>\n",
       "      <td>100428</td>\n",
       "      <td>6</td>\n",
       "      <td>bachelor</td>\n",
       "    </tr>\n",
       "    <tr>\n",
       "      <th>10</th>\n",
       "      <td>100550</td>\n",
       "      <td>3</td>\n",
       "      <td>bachelor</td>\n",
       "    </tr>\n",
       "    <tr>\n",
       "      <th>...</th>\n",
       "      <td>...</td>\n",
       "      <td>...</td>\n",
       "      <td>...</td>\n",
       "    </tr>\n",
       "    <tr>\n",
       "      <th>405612</th>\n",
       "      <td>999550</td>\n",
       "      <td>15</td>\n",
       "      <td>doctor</td>\n",
       "    </tr>\n",
       "    <tr>\n",
       "      <th>405613</th>\n",
       "      <td>999589</td>\n",
       "      <td>14</td>\n",
       "      <td>college</td>\n",
       "    </tr>\n",
       "    <tr>\n",
       "      <th>405614</th>\n",
       "      <td>999631</td>\n",
       "      <td>11</td>\n",
       "      <td>bachelor</td>\n",
       "    </tr>\n",
       "    <tr>\n",
       "      <th>405616</th>\n",
       "      <td>999758</td>\n",
       "      <td>1</td>\n",
       "      <td>college</td>\n",
       "    </tr>\n",
       "    <tr>\n",
       "      <th>405621</th>\n",
       "      <td>999940</td>\n",
       "      <td>3</td>\n",
       "      <td>bachelor</td>\n",
       "    </tr>\n",
       "  </tbody>\n",
       "</table>\n",
       "<p>207624 rows × 3 columns</p>\n",
       "</div>"
      ],
      "text/plain": [
       "        loyalty number  flights booked education\n",
       "0               100018               3  bachelor\n",
       "1               100102              10   college\n",
       "2               100140               6   college\n",
       "8               100428               6  bachelor\n",
       "10              100550               3  bachelor\n",
       "...                ...             ...       ...\n",
       "405612          999550              15    doctor\n",
       "405613          999589              14   college\n",
       "405614          999631              11  bachelor\n",
       "405616          999758               1   college\n",
       "405621          999940               3  bachelor\n",
       "\n",
       "[207624 rows x 3 columns]"
      ]
     },
     "execution_count": 4,
     "metadata": {},
     "output_type": "execute_result"
    }
   ],
   "source": [
    "df_test = df_booked[['loyalty number', 'flights booked', 'education']]\n",
    "df_test"
   ]
  },
  {
   "cell_type": "code",
   "execution_count": 5,
   "metadata": {},
   "outputs": [
    {
     "data": {
      "text/html": [
       "<div>\n",
       "<style scoped>\n",
       "    .dataframe tbody tr th:only-of-type {\n",
       "        vertical-align: middle;\n",
       "    }\n",
       "\n",
       "    .dataframe tbody tr th {\n",
       "        vertical-align: top;\n",
       "    }\n",
       "\n",
       "    .dataframe thead th {\n",
       "        text-align: right;\n",
       "    }\n",
       "</style>\n",
       "<table border=\"1\" class=\"dataframe\">\n",
       "  <thead>\n",
       "    <tr style=\"text-align: right;\">\n",
       "      <th></th>\n",
       "      <th>mean</th>\n",
       "      <th>mean</th>\n",
       "      <th>std</th>\n",
       "      <th>var</th>\n",
       "    </tr>\n",
       "    <tr>\n",
       "      <th>education</th>\n",
       "      <th></th>\n",
       "      <th></th>\n",
       "      <th></th>\n",
       "      <th></th>\n",
       "    </tr>\n",
       "  </thead>\n",
       "  <tbody>\n",
       "    <tr>\n",
       "      <th>bachelor</th>\n",
       "      <td>8.028607</td>\n",
       "      <td>8.028607</td>\n",
       "      <td>4.669000</td>\n",
       "      <td>21.799564</td>\n",
       "    </tr>\n",
       "    <tr>\n",
       "      <th>college</th>\n",
       "      <td>8.070523</td>\n",
       "      <td>8.070523</td>\n",
       "      <td>4.667465</td>\n",
       "      <td>21.785233</td>\n",
       "    </tr>\n",
       "    <tr>\n",
       "      <th>doctor</th>\n",
       "      <td>8.053519</td>\n",
       "      <td>8.053519</td>\n",
       "      <td>4.697898</td>\n",
       "      <td>22.070242</td>\n",
       "    </tr>\n",
       "    <tr>\n",
       "      <th>high school or below</th>\n",
       "      <td>8.016147</td>\n",
       "      <td>8.016147</td>\n",
       "      <td>4.681404</td>\n",
       "      <td>21.915543</td>\n",
       "    </tr>\n",
       "    <tr>\n",
       "      <th>master</th>\n",
       "      <td>8.005894</td>\n",
       "      <td>8.005894</td>\n",
       "      <td>4.620198</td>\n",
       "      <td>21.346227</td>\n",
       "    </tr>\n",
       "  </tbody>\n",
       "</table>\n",
       "</div>"
      ],
      "text/plain": [
       "                          mean      mean       std        var\n",
       "education                                                    \n",
       "bachelor              8.028607  8.028607  4.669000  21.799564\n",
       "college               8.070523  8.070523  4.667465  21.785233\n",
       "doctor                8.053519  8.053519  4.697898  22.070242\n",
       "high school or below  8.016147  8.016147  4.681404  21.915543\n",
       "master                8.005894  8.005894  4.620198  21.346227"
      ]
     },
     "execution_count": 5,
     "metadata": {},
     "output_type": "execute_result"
    }
   ],
   "source": [
    "tabla_stats = df_test.groupby('education')['flights booked'].agg(['mean','mean','std','var'])\n",
    "tabla_stats"
   ]
  },
  {
   "cell_type": "code",
   "execution_count": 6,
   "metadata": {},
   "outputs": [
    {
     "name": "stdout",
     "output_type": "stream",
     "text": [
      "Para la columna flights booked los datos no siguen una distribución normal.\n"
     ]
    }
   ],
   "source": [
    "ans.normalidad(df, 'flights booked')"
   ]
  },
  {
   "cell_type": "code",
   "execution_count": 7,
   "metadata": {},
   "outputs": [
    {
     "name": "stdout",
     "output_type": "stream",
     "text": [
      "Para la columna flights booked los datos no siguen una distribución normal.\n"
     ]
    }
   ],
   "source": [
    "ans.normalidad(df_booked, 'flights booked')"
   ]
  },
  {
   "cell_type": "markdown",
   "metadata": {},
   "source": [
    "## Hipótesis:\n",
    "\n",
    "- H0: No existen diferencias significativas entre los grupos de nivel educativo\n",
    "- H1: Existen ciertas diferencias significativas entre los grupos de nivel educativo"
   ]
  }
 ],
 "metadata": {
  "kernelspec": {
   "display_name": "Python 3",
   "language": "python",
   "name": "python3"
  },
  "language_info": {
   "codemirror_mode": {
    "name": "ipython",
    "version": 3
   },
   "file_extension": ".py",
   "mimetype": "text/x-python",
   "name": "python",
   "nbconvert_exporter": "python",
   "pygments_lexer": "ipython3",
   "version": "3.11.9"
  }
 },
 "nbformat": 4,
 "nbformat_minor": 2
}
