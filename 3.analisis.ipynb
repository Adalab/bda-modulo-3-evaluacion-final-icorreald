{
 "cells": [
  {
   "cell_type": "markdown",
   "metadata": {},
   "source": [
    "## HIPÓTESIS:\n",
    "\n",
    "- H0: No existen diferencias significativas entre los grupos de nivel educativo\n",
    "- H1: Existen ciertas diferencias significativas entre los grupos de nivel educativo"
   ]
  },
  {
   "cell_type": "markdown",
   "metadata": {},
   "source": [
    "# PROCESO\n",
    "Se han realizado varios tipos de test: Mann Whitney y Krustal-Wallis.\n",
    "\n",
    "Para responder a la hipótesis se han utilizado dos df diferentes: \n",
    "- con el primero (`df_testA)`, hacemos el análisis teniendo en cuenta todos los clientes que cuentan con un loyalty number\n",
    "- con el segundo (`df_testB`), analizamos únicamente los datos de aquellos clientes que han realizado vuelos, ya que, como se observó en el apartado de visualizaciones, hay una gran cantidad de clientes que no realizaron vuelos en 2017 y 2018.\n",
    "\n",
    "Debido a que los datos de vuelos reservados presentaba una distribución no normal, se ha realizado el test de Mann Whitney para A/B testing y el test de Krustal-Wallis como alternativa no paramétrica de la ANOVA. \n",
    "\n",
    "En el A/B testing se han establecido dos divisiones:\n",
    "- **Universitarios y No Universitarios**: el grupo de control corresponde a aquellos en la categoría 'high school or below', mientras que el grupo de prueba corresponde al resto. En los DF, la columna `grupo` los identifica con 'A' y 'B'.\n",
    "- **Grado y Postgrado**: el grupo de control corresponde a los usuarios cuya categoría educativa está entre 'high school or below' y 'bachelor', siendo el grupo de prueba 'master' y 'doctor', ya que, como vimos en las visualizaciones, existe un salto en el poder adquisitivo entre aquellos con estudios de postgrado. Quedan identificados por la columna `grupo2` con 'C' y 'D'.\n",
    "\n",
    "\n",
    "# RESPUESTA\n",
    "## A/B testing\n",
    "### df_testA\n",
    "Haciendo la comparación entre `'A' y 'B'`, el test de Mann Whitney no podemos rechazar la H0: no existen diferencias significativas entre el número de vuelos reservados por los dos grupos. \n",
    "\n",
    "Comparando `'C' y 'D'` rechazamos la H0: sí existen diferencias significativas entre el número de reservas de ambos grupos. \n",
    "\n",
    "### df_testB\n",
    "Si tenemos en cuenta únicamente a los clientes que realizan vuelos, no podemos rechazar la H0 en ningún caso: no existen diferencias notorias entre los grupos establecidos.\n",
    "\n",
    "## Krustal-Wallis\n",
    "En este test estamos comparando a los cinco grupos por separado. En el primer caso (df_testA), donde teníamos en cuenta a todos los clientes con loyalty number, rechazamos la H0: hay diferencias estadísticamente significativas entre los grupos.. En el segundo (df_testB), donde sólo tomamos a los clientes que han realizado al menos un vuelo, no rechazamos la H0.\n",
    "\n",
    "\n",
    "\n",
    "\n"
   ]
  }
 ],
 "metadata": {
  "kernelspec": {
   "display_name": "Python 3",
   "language": "python",
   "name": "python3"
  },
  "language_info": {
   "codemirror_mode": {
    "name": "ipython",
    "version": 3
   },
   "file_extension": ".py",
   "mimetype": "text/x-python",
   "name": "python",
   "nbconvert_exporter": "python",
   "pygments_lexer": "ipython3",
   "version": "3.11.9"
  }
 },
 "nbformat": 4,
 "nbformat_minor": 2
}
