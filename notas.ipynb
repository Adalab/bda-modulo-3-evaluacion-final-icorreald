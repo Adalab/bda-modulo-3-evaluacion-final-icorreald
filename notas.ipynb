{
 "cells": [
  {
   "cell_type": "markdown",
   "metadata": {},
   "source": [
    "**COLUMNAS**:\n",
    "- Points redeemed: Generally speaking, you earn miles for flying with an airline, and you redeem those miles for free flights, upgrades, or other purchases\n",
    "\n"
   ]
  },
  {
   "cell_type": "markdown",
   "metadata": {},
   "source": [
    "**REVISAR**:\n",
    "\n",
    "- si tienen sentido entre sí flights booked, flights with companions, total flights, distance\n",
    "- salary: 25% de nulos --- imputable\n",
    "- cancellation year y cancellation month: 87.7% nulos (eliminar columnas?)\n",
    "- unir: left join (activity + loyalty)\n",
    "- hay gente que ha volado pero no tiene puntos?\n",
    "\n",
    "    **SALARY**:\n",
    "    - no hay negativos en: \n",
    "        - college\n",
    "        - master\n",
    "        - doctor\n",
    "    - college: no hay datos de sueldo; los nulos de salary están ahí"
   ]
  },
  {
   "cell_type": "markdown",
   "metadata": {},
   "source": [
    "**DECISIONES**:\n",
    "\n",
    "- eliminar cancellation month y year de loyalty: no da suficiente información (tenemos un 87,65% de nulos) ni podemos inferirla\n",
    "- eliminar todas las filas de: no tienen ningún sentido (datos copia y pega, divorced while high school or below, mismo sueldo)\n",
    "```python\n",
    "df[(df['education']=='high school or below') & (df['salary'] < 0)]\n",
    "```\n",
    "- todos los nulos de salary corresponden a los college student; no se puede hacer nada con ellos"
   ]
  },
  {
   "cell_type": "code",
   "execution_count": 1,
   "metadata": {},
   "outputs": [],
   "source": [
    "def exploracion_basica(lista_df):\n",
    "    for df in lista_df:\n",
    "       display(df.head())\n",
    "       print(df.shape)\n",
    "       print('')\n",
    "       print(df.isnull().sum()/df.shape[0]*100)\n",
    "       print('')\n",
    "       print(df.dtypes)\n",
    "       for columna in df.select_dtypes(include='O'):\n",
    "        print(df[columna].value_counts())\n",
    "        print('')\n",
    "\n",
    "       print('-'*20) "
   ]
  },
  {
   "cell_type": "code",
   "execution_count": null,
   "metadata": {},
   "outputs": [],
   "source": [
    "loyalty.drop(columns=['Cancellation Month', 'Cancellation Year'], axis=1, inplace=True)"
   ]
  },
  {
   "cell_type": "code",
   "execution_count": 2,
   "metadata": {},
   "outputs": [],
   "source": [
    "def nuevas_columnas(df):\n",
    "    nuevas_columnas = {columna: columna.lower() for columna in df.columns}\n",
    "    return df.rename(columns=nuevas_columnas, inplace= True)\n",
    "\n",
    "def unify(valor):\n",
    "    try:\n",
    "        return valor.lower().strip()\n",
    "    except:\n",
    "        return valor\n",
    "\n",
    "# aplicar cambios a df    \n",
    "def homog_tablas(lista_df):\n",
    "    for df in lista_df:\n",
    "        nuevas_columnas(df)\n",
    "    \n",
    "    for df in lista_df:\n",
    "        for columna in df.columns:\n",
    "            df[columna] = df[columna].apply(unify)"
   ]
  },
  {
   "cell_type": "code",
   "execution_count": null,
   "metadata": {},
   "outputs": [],
   "source": [
    "df = activity.merge(loyalty, how='left', on='Loyalty Number')"
   ]
  },
  {
   "cell_type": "code",
   "execution_count": null,
   "metadata": {},
   "outputs": [],
   "source": [
    "df = df.drop(df[(df['education']=='high school or below') & (df['salary'] < 0)].index)"
   ]
  }
 ],
 "metadata": {
  "kernelspec": {
   "display_name": "Python 3",
   "language": "python",
   "name": "python3"
  },
  "language_info": {
   "codemirror_mode": {
    "name": "ipython",
    "version": 3
   },
   "file_extension": ".py",
   "mimetype": "text/x-python",
   "name": "python",
   "nbconvert_exporter": "python",
   "pygments_lexer": "ipython3",
   "version": "3.11.9"
  }
 },
 "nbformat": 4,
 "nbformat_minor": 2
}
